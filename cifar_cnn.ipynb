{
  "nbformat": 4,
  "nbformat_minor": 0,
  "metadata": {
    "colab": {
      "name": "cifar_cnn.ipynb",
      "provenance": [],
      "authorship_tag": "ABX9TyN/FcHFew9XSMFuExdHjMT4",
      "include_colab_link": true
    },
    "kernelspec": {
      "name": "python3",
      "display_name": "Python 3"
    }
  },
  "cells": [
    {
      "cell_type": "markdown",
      "metadata": {
        "id": "view-in-github",
        "colab_type": "text"
      },
      "source": [
        "<a href=\"https://colab.research.google.com/github/harikrish2727/cifar_10_CNN/blob/main/cifar_cnn.ipynb\" target=\"_parent\"><img src=\"https://colab.research.google.com/assets/colab-badge.svg\" alt=\"Open In Colab\"/></a>"
      ]
    },
    {
      "cell_type": "code",
      "metadata": {
        "id": "JIyaC_et6y-G"
      },
      "source": [
        "import pandas as pd\r\n",
        "import numpy as np\r\n",
        "import matplotlib.pyplot as plt\r\n",
        "import tensorflow as tf"
      ],
      "execution_count": 1,
      "outputs": []
    },
    {
      "cell_type": "code",
      "metadata": {
        "colab": {
          "base_uri": "https://localhost:8080/"
        },
        "id": "EUrmayy27tCT",
        "outputId": "032628c4-93bd-4151-986c-c293fd32b9d2"
      },
      "source": [
        "from tensorflow.keras.datasets import cifar10\r\n",
        "(x_train,y_train),(x_test,y_test) = cifar10.load_data()"
      ],
      "execution_count": 2,
      "outputs": [
        {
          "output_type": "stream",
          "text": [
            "Downloading data from https://www.cs.toronto.edu/~kriz/cifar-10-python.tar.gz\n",
            "170500096/170498071 [==============================] - 7s 0us/step\n"
          ],
          "name": "stdout"
        }
      ]
    },
    {
      "cell_type": "code",
      "metadata": {
        "colab": {
          "base_uri": "https://localhost:8080/"
        },
        "id": "WVt9oaac8ORP",
        "outputId": "0e350bb0-65f3-485a-e968-28c3e892d5a3"
      },
      "source": [
        "x_train.shape"
      ],
      "execution_count": 3,
      "outputs": [
        {
          "output_type": "execute_result",
          "data": {
            "text/plain": [
              "(50000, 32, 32, 3)"
            ]
          },
          "metadata": {
            "tags": []
          },
          "execution_count": 3
        }
      ]
    },
    {
      "cell_type": "code",
      "metadata": {
        "colab": {
          "base_uri": "https://localhost:8080/"
        },
        "id": "HX6KWyvU8S7v",
        "outputId": "61cb416d-8b90-4029-ba49-d9bb79d6904f"
      },
      "source": [
        "x_test.shape"
      ],
      "execution_count": 4,
      "outputs": [
        {
          "output_type": "execute_result",
          "data": {
            "text/plain": [
              "(10000, 32, 32, 3)"
            ]
          },
          "metadata": {
            "tags": []
          },
          "execution_count": 4
        }
      ]
    },
    {
      "cell_type": "code",
      "metadata": {
        "colab": {
          "base_uri": "https://localhost:8080/"
        },
        "id": "1WusohSf8Vf-",
        "outputId": "57ec9d53-606d-4ee8-a7b2-db94d109790e"
      },
      "source": [
        "y_train.shape"
      ],
      "execution_count": 5,
      "outputs": [
        {
          "output_type": "execute_result",
          "data": {
            "text/plain": [
              "(50000, 1)"
            ]
          },
          "metadata": {
            "tags": []
          },
          "execution_count": 5
        }
      ]
    },
    {
      "cell_type": "code",
      "metadata": {
        "colab": {
          "base_uri": "https://localhost:8080/"
        },
        "id": "8HuYawFx8YX6",
        "outputId": "eb6e5f07-e3f7-4289-9bc1-15197c782048"
      },
      "source": [
        "x_train[0]"
      ],
      "execution_count": 6,
      "outputs": [
        {
          "output_type": "execute_result",
          "data": {
            "text/plain": [
              "array([[[ 59,  62,  63],\n",
              "        [ 43,  46,  45],\n",
              "        [ 50,  48,  43],\n",
              "        ...,\n",
              "        [158, 132, 108],\n",
              "        [152, 125, 102],\n",
              "        [148, 124, 103]],\n",
              "\n",
              "       [[ 16,  20,  20],\n",
              "        [  0,   0,   0],\n",
              "        [ 18,   8,   0],\n",
              "        ...,\n",
              "        [123,  88,  55],\n",
              "        [119,  83,  50],\n",
              "        [122,  87,  57]],\n",
              "\n",
              "       [[ 25,  24,  21],\n",
              "        [ 16,   7,   0],\n",
              "        [ 49,  27,   8],\n",
              "        ...,\n",
              "        [118,  84,  50],\n",
              "        [120,  84,  50],\n",
              "        [109,  73,  42]],\n",
              "\n",
              "       ...,\n",
              "\n",
              "       [[208, 170,  96],\n",
              "        [201, 153,  34],\n",
              "        [198, 161,  26],\n",
              "        ...,\n",
              "        [160, 133,  70],\n",
              "        [ 56,  31,   7],\n",
              "        [ 53,  34,  20]],\n",
              "\n",
              "       [[180, 139,  96],\n",
              "        [173, 123,  42],\n",
              "        [186, 144,  30],\n",
              "        ...,\n",
              "        [184, 148,  94],\n",
              "        [ 97,  62,  34],\n",
              "        [ 83,  53,  34]],\n",
              "\n",
              "       [[177, 144, 116],\n",
              "        [168, 129,  94],\n",
              "        [179, 142,  87],\n",
              "        ...,\n",
              "        [216, 184, 140],\n",
              "        [151, 118,  84],\n",
              "        [123,  92,  72]]], dtype=uint8)"
            ]
          },
          "metadata": {
            "tags": []
          },
          "execution_count": 6
        }
      ]
    },
    {
      "cell_type": "code",
      "metadata": {
        "colab": {
          "base_uri": "https://localhost:8080/"
        },
        "id": "EfKmxX_r8bDG",
        "outputId": "5fb1f194-80b0-4a19-f231-ca7ca7568fd6"
      },
      "source": [
        "x_train[0].max()"
      ],
      "execution_count": 7,
      "outputs": [
        {
          "output_type": "execute_result",
          "data": {
            "text/plain": [
              "255"
            ]
          },
          "metadata": {
            "tags": []
          },
          "execution_count": 7
        }
      ]
    },
    {
      "cell_type": "code",
      "metadata": {
        "colab": {
          "base_uri": "https://localhost:8080/"
        },
        "id": "jc4lVm2y8jQt",
        "outputId": "9298e5a2-ce6f-4c28-ddaa-45410c390f38"
      },
      "source": [
        "x_train[0].min()"
      ],
      "execution_count": 8,
      "outputs": [
        {
          "output_type": "execute_result",
          "data": {
            "text/plain": [
              "0"
            ]
          },
          "metadata": {
            "tags": []
          },
          "execution_count": 8
        }
      ]
    },
    {
      "cell_type": "code",
      "metadata": {
        "colab": {
          "base_uri": "https://localhost:8080/",
          "height": 283
        },
        "id": "9h2D8VoK8xTH",
        "outputId": "43ddc28b-e15b-4d3f-e5b9-29b66b8ed019"
      },
      "source": [
        "plt.imshow(x_train[0])"
      ],
      "execution_count": 9,
      "outputs": [
        {
          "output_type": "execute_result",
          "data": {
            "text/plain": [
              "<matplotlib.image.AxesImage at 0x7f9b7d81a710>"
            ]
          },
          "metadata": {
            "tags": []
          },
          "execution_count": 9
        },
        {
          "output_type": "display_data",
          "data": {
            "image/png": "[encoded data removed]",
            "text/plain": [
              "<Figure size 432x288 with 1 Axes>"
            ]
          },
          "metadata": {
            "tags": [],
            "needs_background": "light"
          }
        }
      ]
    },
    {
      "cell_type": "code",
      "metadata": {
        "colab": {
          "base_uri": "https://localhost:8080/"
        },
        "id": "_czV1m1G84fa",
        "outputId": "488f22ea-b156-4a5e-d096-1fa1cbd4c034"
      },
      "source": [
        "y_train[0]"
      ],
      "execution_count": 11,
      "outputs": [
        {
          "output_type": "execute_result",
          "data": {
            "text/plain": [
              "array([6], dtype=uint8)"
            ]
          },
          "metadata": {
            "tags": []
          },
          "execution_count": 11
        }
      ]
    },
    {
      "cell_type": "code",
      "metadata": {
        "id": "fHzIGX2V8mW_"
      },
      "source": [
        "x_train = x_train/255\r\n",
        "x_test = x_test/255"
      ],
      "execution_count": 12,
      "outputs": []
    },
    {
      "cell_type": "code",
      "metadata": {
        "colab": {
          "base_uri": "https://localhost:8080/",
          "height": 283
        },
        "id": "ULZJWeuG9JAT",
        "outputId": "faa01ca2-44ba-4836-e7ca-5782787935b8"
      },
      "source": [
        "plt.imshow(x_train[0])"
      ],
      "execution_count": 13,
      "outputs": [
        {
          "output_type": "execute_result",
          "data": {
            "text/plain": [
              "<matplotlib.image.AxesImage at 0x7f9b1c44ca20>"
            ]
          },
          "metadata": {
            "tags": []
          },
          "execution_count": 13
        },
        {
          "output_type": "display_data",
          "data": {
            "image/png": "[encoded data removed]",
            "text/plain": [
              "<Figure size 432x288 with 1 Axes>"
            ]
          },
          "metadata": {
            "tags": [],
            "needs_background": "light"
          }
        }
      ]
    },
    {
      "cell_type": "code",
      "metadata": {
        "id": "D-5vTpW09Nzh"
      },
      "source": [
        "from tensorflow.keras.utils import to_categorical\r\n",
        "y_train_cat = to_categorical(y_train)\r\n",
        "y_test_cat = to_categorical(y_test)"
      ],
      "execution_count": 14,
      "outputs": []
    },
    {
      "cell_type": "code",
      "metadata": {
        "colab": {
          "base_uri": "https://localhost:8080/"
        },
        "id": "mvJh3ZR49pUI",
        "outputId": "d63b01e6-251f-453a-bbcf-15cb46b2d133"
      },
      "source": [
        "x_train[0].max()"
      ],
      "execution_count": 16,
      "outputs": [
        {
          "output_type": "execute_result",
          "data": {
            "text/plain": [
              "1.0"
            ]
          },
          "metadata": {
            "tags": []
          },
          "execution_count": 16
        }
      ]
    },
    {
      "cell_type": "code",
      "metadata": {
        "colab": {
          "base_uri": "https://localhost:8080/"
        },
        "id": "lZioPhLE9ujE",
        "outputId": "a89c4a9e-aec8-43d0-f097-500df81f0e4a"
      },
      "source": [
        "y_train_cat[0]"
      ],
      "execution_count": 17,
      "outputs": [
        {
          "output_type": "execute_result",
          "data": {
            "text/plain": [
              "array([0., 0., 0., 0., 0., 0., 1., 0., 0., 0.], dtype=float32)"
            ]
          },
          "metadata": {
            "tags": []
          },
          "execution_count": 17
        }
      ]
    },
    {
      "cell_type": "markdown",
      "metadata": {
        "id": "mAdx9fpR95s_"
      },
      "source": [
        "**modeling**"
      ]
    },
    {
      "cell_type": "code",
      "metadata": {
        "id": "ygIUmdS091on"
      },
      "source": [
        "from tensorflow.keras.models import Sequential\r\n",
        "from tensorflow.keras.layers import Dense,Conv2D,MaxPool2D,Flatten"
      ],
      "execution_count": 18,
      "outputs": []
    },
    {
      "cell_type": "code",
      "metadata": {
        "id": "9Qx3mGJ5-RH0"
      },
      "source": [
        "model = Sequential()\r\n",
        "\r\n",
        "model.add(Conv2D(filters=32,kernel_size=(4,4),input_shape=(32,32,3),padding=\"same\",activation=\"relu\"))\r\n",
        "\r\n",
        "model.add(MaxPool2D(pool_size=(2,2)))\r\n",
        "\r\n",
        "model.add(Conv2D(filters=32,kernel_size=(4,4),input_shape=(32,32,3),padding=\"same\",activation=\"relu\"))\r\n",
        "\r\n",
        "model.add(MaxPool2D(pool_size=(2,2)))\r\n",
        "\r\n",
        "model.add(Flatten())\r\n",
        "\r\n",
        "model.add(Dense(units=300,activation=\"relu\"))\r\n",
        "\r\n",
        "model.add(Dense(units=100,activation=\"relu\"))\r\n",
        "\r\n",
        "model.add(Dense(units=10,activation=\"softmax\"))\r\n"
      ],
      "execution_count": 26,
      "outputs": []
    },
    {
      "cell_type": "code",
      "metadata": {
        "id": "NvEZ5MopAhnl"
      },
      "source": [
        "model.compile(loss=\"categorical_crossentropy\",optimizer=\"adam\",metrics=[\"accuracy\"])"
      ],
      "execution_count": 27,
      "outputs": []
    },
    {
      "cell_type": "code",
      "metadata": {
        "colab": {
          "base_uri": "https://localhost:8080/"
        },
        "id": "MSqx_-gMAkn0",
        "outputId": "8c1fe17c-08f0-43f3-a8e3-34555539c105"
      },
      "source": [
        "model.summary()"
      ],
      "execution_count": 28,
      "outputs": [
        {
          "output_type": "stream",
          "text": [
            "Model: \"sequential_2\"\n",
            "_________________________________________________________________\n",
            "Layer (type)                 Output Shape              Param #   \n",
            "=================================================================\n",
            "conv2d_4 (Conv2D)            (None, 32, 32, 32)        1568      \n",
            "_________________________________________________________________\n",
            "max_pooling2d_4 (MaxPooling2 (None, 16, 16, 32)        0         \n",
            "_________________________________________________________________\n",
            "conv2d_5 (Conv2D)            (None, 16, 16, 32)        16416     \n",
            "_________________________________________________________________\n",
            "max_pooling2d_5 (MaxPooling2 (None, 8, 8, 32)          0         \n",
            "_________________________________________________________________\n",
            "flatten_2 (Flatten)          (None, 2048)              0         \n",
            "_________________________________________________________________\n",
            "dense_6 (Dense)              (None, 300)               614700    \n",
            "_________________________________________________________________\n",
            "dense_7 (Dense)              (None, 100)               30100     \n",
            "_________________________________________________________________\n",
            "dense_8 (Dense)              (None, 10)                1010      \n",
            "=================================================================\n",
            "Total params: 663,794\n",
            "Trainable params: 663,794\n",
            "Non-trainable params: 0\n",
            "_________________________________________________________________\n"
          ],
          "name": "stdout"
        }
      ]
    },
    {
      "cell_type": "code",
      "metadata": {
        "id": "d-fVqLr9B7pT"
      },
      "source": [
        "from tensorflow.keras.callbacks import EarlyStopping"
      ],
      "execution_count": 29,
      "outputs": []
    },
    {
      "cell_type": "code",
      "metadata": {
        "id": "kourv7S5CPg_"
      },
      "source": [
        "stopping = EarlyStopping(patience=5,monitor=\"val_loss\")"
      ],
      "execution_count": 30,
      "outputs": []
    },
    {
      "cell_type": "code",
      "metadata": {
        "colab": {
          "base_uri": "https://localhost:8080/"
        },
        "id": "ZTU4uIpDA9ga",
        "outputId": "3fd89438-4a3c-43d7-d404-e917625e8985"
      },
      "source": [
        "model.fit(x_train,y_train_cat,batch_size=2000,epochs=15,callbacks=[stopping],validation_data=(x_train,y_train_cat))"
      ],
      "execution_count": 32,
      "outputs": [
        {
          "output_type": "stream",
          "text": [
            "Epoch 1/15\n",
            "25/25 [==============================] - 98s 4s/step - loss: 1.6313 - accuracy: 0.4118 - val_loss: 1.5768 - val_accuracy: 0.4351\n",
            "Epoch 2/15\n",
            "25/25 [==============================] - 97s 4s/step - loss: 1.5019 - accuracy: 0.4627 - val_loss: 1.4499 - val_accuracy: 0.4829\n",
            "Epoch 3/15\n",
            "25/25 [==============================] - 97s 4s/step - loss: 1.4126 - accuracy: 0.4952 - val_loss: 1.4674 - val_accuracy: 0.4760\n",
            "Epoch 4/15\n",
            "25/25 [==============================] - 97s 4s/step - loss: 1.3635 - accuracy: 0.5188 - val_loss: 1.3276 - val_accuracy: 0.5329\n",
            "Epoch 5/15\n",
            "25/25 [==============================] - 97s 4s/step - loss: 1.2871 - accuracy: 0.5440 - val_loss: 1.2522 - val_accuracy: 0.5567\n",
            "Epoch 6/15\n",
            "25/25 [==============================] - 97s 4s/step - loss: 1.2431 - accuracy: 0.5604 - val_loss: 1.2036 - val_accuracy: 0.5800\n",
            "Epoch 7/15\n",
            "25/25 [==============================] - 97s 4s/step - loss: 1.2038 - accuracy: 0.5764 - val_loss: 1.2098 - val_accuracy: 0.5814\n",
            "Epoch 8/15\n",
            "25/25 [==============================] - 97s 4s/step - loss: 1.1662 - accuracy: 0.5924 - val_loss: 1.1435 - val_accuracy: 0.5984\n",
            "Epoch 9/15\n",
            "25/25 [==============================] - 97s 4s/step - loss: 1.1238 - accuracy: 0.6058 - val_loss: 1.1089 - val_accuracy: 0.6108\n",
            "Epoch 10/15\n",
            "25/25 [==============================] - 97s 4s/step - loss: 1.1374 - accuracy: 0.6054 - val_loss: 1.0883 - val_accuracy: 0.6208\n",
            "Epoch 11/15\n",
            "25/25 [==============================] - 97s 4s/step - loss: 1.0796 - accuracy: 0.6220 - val_loss: 1.0674 - val_accuracy: 0.6253\n",
            "Epoch 12/15\n",
            "25/25 [==============================] - 97s 4s/step - loss: 1.0523 - accuracy: 0.6313 - val_loss: 1.0135 - val_accuracy: 0.6471\n",
            "Epoch 13/15\n",
            "25/25 [==============================] - 97s 4s/step - loss: 1.0253 - accuracy: 0.6427 - val_loss: 1.0134 - val_accuracy: 0.6447\n",
            "Epoch 14/15\n",
            "25/25 [==============================] - 97s 4s/step - loss: 1.0083 - accuracy: 0.6476 - val_loss: 0.9907 - val_accuracy: 0.6521\n",
            "Epoch 15/15\n",
            "25/25 [==============================] - 97s 4s/step - loss: 0.9840 - accuracy: 0.6563 - val_loss: 0.9848 - val_accuracy: 0.6539\n"
          ],
          "name": "stdout"
        },
        {
          "output_type": "execute_result",
          "data": {
            "text/plain": [
              "<tensorflow.python.keras.callbacks.History at 0x7f9b16257898>"
            ]
          },
          "metadata": {
            "tags": []
          },
          "execution_count": 32
        }
      ]
    },
    {
      "cell_type": "code",
      "metadata": {
        "id": "pXRVVI6ZCgPj"
      },
      "source": [
        "model.save(\"cifar10.h5\")"
      ],
      "execution_count": 33,
      "outputs": []
    },
    {
      "cell_type": "code",
      "metadata": {
        "id": "c071j5JgIQOb"
      },
      "source": [
        "losses = pd.DataFrame(model.history.history)"
      ],
      "execution_count": 34,
      "outputs": []
    },
    {
      "cell_type": "code",
      "metadata": {
        "colab": {
          "base_uri": "https://localhost:8080/",
          "height": 199
        },
        "id": "dssmKXwVIaP4",
        "outputId": "e92bea2d-49c8-4f7b-df6d-d84081b74d0d"
      },
      "source": [
        "losses.head()"
      ],
      "execution_count": 35,
      "outputs": [
        {
          "output_type": "execute_result",
          "data": {
            "text/html": [
              "<div>\n",
              "<style scoped>\n",
              "    .dataframe tbody tr th:only-of-type {\n",
              "        vertical-align: middle;\n",
              "    }\n",
              "\n",
              "    .dataframe tbody tr th {\n",
              "        vertical-align: top;\n",
              "    }\n",
              "\n",
              "    .dataframe thead th {\n",
              "        text-align: right;\n",
              "    }\n",
              "</style>\n",
              "<table border=\"1\" class=\"dataframe\">\n",
              "  <thead>\n",
              "    <tr style=\"text-align: right;\">\n",
              "      <th></th>\n",
              "      <th>loss</th>\n",
              "      <th>accuracy</th>\n",
              "      <th>val_loss</th>\n",
              "      <th>val_accuracy</th>\n",
              "    </tr>\n",
              "  </thead>\n",
              "  <tbody>\n",
              "    <tr>\n",
              "      <th>0</th>\n",
              "      <td>1.631312</td>\n",
              "      <td>0.41180</td>\n",
              "      <td>1.576847</td>\n",
              "      <td>0.43506</td>\n",
              "    </tr>\n",
              "    <tr>\n",
              "      <th>1</th>\n",
              "      <td>1.501916</td>\n",
              "      <td>0.46272</td>\n",
              "      <td>1.449871</td>\n",
              "      <td>0.48288</td>\n",
              "    </tr>\n",
              "    <tr>\n",
              "      <th>2</th>\n",
              "      <td>1.412628</td>\n",
              "      <td>0.49516</td>\n",
              "      <td>1.467404</td>\n",
              "      <td>0.47602</td>\n",
              "    </tr>\n",
              "    <tr>\n",
              "      <th>3</th>\n",
              "      <td>1.363531</td>\n",
              "      <td>0.51884</td>\n",
              "      <td>1.327556</td>\n",
              "      <td>0.53292</td>\n",
              "    </tr>\n",
              "    <tr>\n",
              "      <th>4</th>\n",
              "      <td>1.287150</td>\n",
              "      <td>0.54404</td>\n",
              "      <td>1.252182</td>\n",
              "      <td>0.55672</td>\n",
              "    </tr>\n",
              "  </tbody>\n",
              "</table>\n",
              "</div>"
            ],
            "text/plain": [
              "       loss  accuracy  val_loss  val_accuracy\n",
              "0  1.631312   0.41180  1.576847       0.43506\n",
              "1  1.501916   0.46272  1.449871       0.48288\n",
              "2  1.412628   0.49516  1.467404       0.47602\n",
              "3  1.363531   0.51884  1.327556       0.53292\n",
              "4  1.287150   0.54404  1.252182       0.55672"
            ]
          },
          "metadata": {
            "tags": []
          },
          "execution_count": 35
        }
      ]
    },
    {
      "cell_type": "code",
      "metadata": {
        "colab": {
          "base_uri": "https://localhost:8080/",
          "height": 282
        },
        "id": "Dqbs5UAqIcdS",
        "outputId": "46c8ac46-459b-46e6-a48b-5d12ff6c576c"
      },
      "source": [
        "losses[[\"loss\",\"val_loss\"]].plot()"
      ],
      "execution_count": 36,
      "outputs": [
        {
          "output_type": "execute_result",
          "data": {
            "text/plain": [
              "<matplotlib.axes._subplots.AxesSubplot at 0x7f9b1389c2b0>"
            ]
          },
          "metadata": {
            "tags": []
          },
          "execution_count": 36
        },
        {
          "output_type": "display_data",
          "data": {
            "image/png": "[encoded data removed]",
            "text/plain": [
              "<Figure size 432x288 with 1 Axes>"
            ]
          },
          "metadata": {
            "tags": [],
            "needs_background": "light"
          }
        }
      ]
    },
    {
      "cell_type": "code",
      "metadata": {
        "colab": {
          "base_uri": "https://localhost:8080/",
          "height": 282
        },
        "id": "q4c87blXIx80",
        "outputId": "0d33edcf-c51a-4477-f4ba-1a77c30eaea9"
      },
      "source": [
        "losses[[\"accuracy\",\"val_accuracy\"]].plot()"
      ],
      "execution_count": 37,
      "outputs": [
        {
          "output_type": "execute_result",
          "data": {
            "text/plain": [
              "<matplotlib.axes._subplots.AxesSubplot at 0x7f9b13831828>"
            ]
          },
          "metadata": {
            "tags": []
          },
          "execution_count": 37
        },
        {
          "output_type": "display_data",
          "data": {
            "image/png": "[encoded data removed]",
            "text/plain": [
              "<Figure size 432x288 with 1 Axes>"
            ]
          },
          "metadata": {
            "tags": [],
            "needs_background": "light"
          }
        }
      ]
    },
    {
      "cell_type": "code",
      "metadata": {
        "colab": {
          "base_uri": "https://localhost:8080/"
        },
        "id": "XvxxYSH-I7wz",
        "outputId": "48450b86-01c7-4a98-c938-df0288a17a1f"
      },
      "source": [
        "model.evaluate(x_test,y_test_cat)"
      ],
      "execution_count": 38,
      "outputs": [
        {
          "output_type": "stream",
          "text": [
            "313/313 [==============================] - 6s 18ms/step - loss: 1.0664 - accuracy: 0.6264\n"
          ],
          "name": "stdout"
        },
        {
          "output_type": "execute_result",
          "data": {
            "text/plain": [
              "[1.0663650035858154, 0.6263999938964844]"
            ]
          },
          "metadata": {
            "tags": []
          },
          "execution_count": 38
        }
      ]
    },
    {
      "cell_type": "code",
      "metadata": {
        "colab": {
          "base_uri": "https://localhost:8080/"
        },
        "id": "moWovORzJG_l",
        "outputId": "8d4de9d4-3ae1-458b-c705-fc6524128027"
      },
      "source": [
        "prediction = model.predict_classes(x_test)"
      ],
      "execution_count": 39,
      "outputs": [
        {
          "output_type": "stream",
          "text": [
            "/usr/local/lib/python3.6/dist-packages/tensorflow/python/keras/engine/sequential.py:450: UserWarning: `model.predict_classes()` is deprecated and will be removed after 2021-01-01. Please use instead:* `np.argmax(model.predict(x), axis=-1)`,   if your model does multi-class classification   (e.g. if it uses a `softmax` last-layer activation).* `(model.predict(x) > 0.5).astype(\"int32\")`,   if your model does binary classification   (e.g. if it uses a `sigmoid` last-layer activation).\n",
            "  warnings.warn('`model.predict_classes()` is deprecated and '\n"
          ],
          "name": "stderr"
        }
      ]
    },
    {
      "cell_type": "code",
      "metadata": {
        "id": "6FnfhUugJTce"
      },
      "source": [
        "from sklearn.metrics import classification_report,confusion_matrix"
      ],
      "execution_count": 40,
      "outputs": []
    },
    {
      "cell_type": "code",
      "metadata": {
        "colab": {
          "base_uri": "https://localhost:8080/"
        },
        "id": "F_XDuBpeJcL5",
        "outputId": "e7d949e8-dad1-463a-be62-69cf1fe96d58"
      },
      "source": [
        "confusion_matrix(y_test,prediction)"
      ],
      "execution_count": 41,
      "outputs": [
        {
          "output_type": "execute_result",
          "data": {
            "text/plain": [
              "array([[699,  15, 111,  32,  10,   9,  15,   4,  81,  24],\n",
              "       [ 37, 748,  22,  24,   7,   5,  11,   7,  55,  84],\n",
              "       [ 55,   9, 613,  90,  60,  71,  65,  21,  12,   4],\n",
              "       [ 24,  10, 130, 515,  35, 176,  71,  15,  15,   9],\n",
              "       [ 28,   4, 229, 109, 436,  46,  77,  55,  15,   1],\n",
              "       [ 11,   3, 126, 237,  34, 527,  24,  25,   9,   4],\n",
              "       [  5,   4,  87,  95,  23,  27, 741,   7,   7,   4],\n",
              "       [ 16,   2,  75,  86,  60, 111,  13, 619,   6,  12],\n",
              "       [ 95,  40,  35,  23,   4,  12,   4,   3, 768,  16],\n",
              "       [ 54, 143,  30,  41,   6,  13,  19,  15,  81, 598]])"
            ]
          },
          "metadata": {
            "tags": []
          },
          "execution_count": 41
        }
      ]
    },
    {
      "cell_type": "code",
      "metadata": {
        "colab": {
          "base_uri": "https://localhost:8080/"
        },
        "id": "lcAcebiGJh7d",
        "outputId": "4e1918f1-bf24-4dbc-cd8f-512e7946817f"
      },
      "source": [
        "print(classification_report(y_test,prediction))"
      ],
      "execution_count": 43,
      "outputs": [
        {
          "output_type": "stream",
          "text": [
            "              precision    recall  f1-score   support\n",
            "\n",
            "           0       0.68      0.70      0.69      1000\n",
            "           1       0.76      0.75      0.76      1000\n",
            "           2       0.42      0.61      0.50      1000\n",
            "           3       0.41      0.52      0.46      1000\n",
            "           4       0.65      0.44      0.52      1000\n",
            "           5       0.53      0.53      0.53      1000\n",
            "           6       0.71      0.74      0.73      1000\n",
            "           7       0.80      0.62      0.70      1000\n",
            "           8       0.73      0.77      0.75      1000\n",
            "           9       0.79      0.60      0.68      1000\n",
            "\n",
            "    accuracy                           0.63     10000\n",
            "   macro avg       0.65      0.63      0.63     10000\n",
            "weighted avg       0.65      0.63      0.63     10000\n",
            "\n"
          ],
          "name": "stdout"
        }
      ]
    },
    {
      "cell_type": "code",
      "metadata": {
        "id": "t9q3biNaJsYY"
      },
      "source": [
        ""
      ],
      "execution_count": null,
      "outputs": []
    }
  ]
}